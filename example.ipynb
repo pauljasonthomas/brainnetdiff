{
 "cells": [
  {
   "cell_type": "markdown",
   "id": "communist-strike",
   "metadata": {},
   "source": [
    "## Tutorial for using the brainnetdiff package"
   ]
  },
  {
   "cell_type": "code",
   "execution_count": 17,
   "id": "related-circular",
   "metadata": {},
   "outputs": [],
   "source": [
    "import numpy as np\n",
    "import pandas as pd\n",
    "import brainnetdiff as bnd\n",
    "from statsmodels.stats.multitest import fdrcorrection\n",
    "\n",
    "#load data\n",
    "mmp_atlas = pd.read_csv('data/mmp_atlas.csv')\n",
    "mmp_xyz = np.load('data/mmp_xyz.npy')\n",
    "roi_names = list(mmp_atlas.regionLongName)\n",
    "roi_regions = list(mmp_atlas.cortex_LR)\n",
    "SC = np.load('data/SC.npy')\n",
    "FC = np.load('data/FC.npy')\n",
    "hc_ind = list(range(0,22)) #indices for healthy controls \n",
    "pt_ind = list(range(22,87)) #indices for patients \n",
    "traits = pd.read_csv('data/demo_idas_baseline.csv')"
   ]
  },
  {
   "cell_type": "markdown",
   "id": "improving-reach",
   "metadata": {},
   "source": [
    "### 1. Compute the structural to functional brain connectivity mapp
